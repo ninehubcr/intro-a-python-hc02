{
 "cells": [
  {
   "cell_type": "markdown",
   "metadata": {},
   "source": [
    "# Sesión 8 - Programación orientada a objetos (OOP ó POO)\n",
    "\n",
    "- Es un paradigma de programación que nos permite organizar el código de una manera que se asemeja bastante a como pensamos en la vida real, utilizando las famosas clases. Estas nos permiten agrupar un conjunto de variables y funciones que veremos a continuación.\n",
    "- Cosas de lo más cotidianas como un perro o un coche pueden ser representadas con clases. Estas clases tienen diferentes características, que en el caso del perro podrían ser la edad, el nombre o la raza. Llamaremos a estas características, **atributos**.\n",
    "\n",
    "- Por otro lado, las clases tienen un conjunto de funcionalidades o cosas que pueden hacer. En el caso del perro podría ser andar o ladrar. Llamaremos a estas funcionalidades **métodos**.\n",
    "\n",
    "- Podemos tener diferentes tipo de **objetos** como diferentes tipos de carros o de perros. Esta abstracción la logramos a partir de una **clase**, y la instancia de esta clase será el **objeto**, por ejemplo, cada carro que queramos crear será un **objeto** creado a partir de una **clase**\n",
    "\n",
    "La programación orientada a objetos tiene 6 principios en los cuáles se basa:\n",
    "\n",
    "- Herencia\n",
    "- Cohesión\n",
    "- Abstracción\n",
    "- Polimorfismo\n",
    "- Acoplamiento\n",
    "- Encapsulamiento\n",
    "- Motivación\n",
    "\n",
    "En el mundo de la programación existen tareas muy similares, y en respuesta a ello surgió la programación orientada a objetos. Una herramienta perfecta que permite resolver cierto tipo de problemas de una forma mucho más sencilla, con menos código y más organizado. Agrupa bajo una clase un conjunto de variables y funciones, que pueden ser reutilizadas con características particulares creando objetos."
   ]
  },
  {
   "cell_type": "code",
   "execution_count": 1,
   "metadata": {},
   "outputs": [],
   "source": [
    "## Definamos una clase\n",
    "\n",
    "# Creando una clase vacía\n",
    "class Perro:\n",
    "    pass"
   ]
  },
  {
   "cell_type": "code",
   "execution_count": 2,
   "metadata": {},
   "outputs": [],
   "source": [
    "## Con esta clase podemos crear o instanciar un objeto\n",
    "\n",
    "# Creamos un objeto de la clase perro\n",
    "mi_perro = Perro()"
   ]
  },
  {
   "cell_type": "code",
   "execution_count": 4,
   "metadata": {},
   "outputs": [
    {
     "data": {
      "text/plain": [
       "__main__.Perro"
      ]
     },
     "execution_count": 4,
     "metadata": {},
     "output_type": "execute_result"
    }
   ],
   "source": [
    "type(mi_perro)"
   ]
  },
  {
   "cell_type": "markdown",
   "metadata": {},
   "source": [
    "## Añadiendo atributos a nuestra clase\n",
    "Primero es importante conocer que tenemos 2 tipos de atributos\n",
    "\n",
    "- Atributos de instancia: Pertenecen a la instancia de la clase o al objeto. Son atributos particulares de cada instancia, en nuestro caso de cada perro.\n",
    "- Atributos de clase: Se trata de atributos que pertenecen a la clase, por lo tanto serán comunes para todos los objetos.\n",
    "\n",
    "Empecemos creando un par de atributos de instancia para nuestro perro, el nombre y la raza. Para ello creamos un método __init__ que será llamado automáticamente cuando creemos un objeto. Se trata del constructor."
   ]
  },
  {
   "cell_type": "code",
   "execution_count": 6,
   "metadata": {},
   "outputs": [],
   "source": [
    "class Perro:\n",
    "    # El método __init__ es llamado al crear el objeto\n",
    "    def __init__(self, nombre, raza):\n",
    "        print(f\"Creando perro {nombre}, {raza}\")\n",
    "\n",
    "        # Atributos de instancia\n",
    "        self.nombre = nombre\n",
    "        self.raza = raza"
   ]
  },
  {
   "cell_type": "code",
   "execution_count": 7,
   "metadata": {},
   "outputs": [
    {
     "name": "stdout",
     "output_type": "stream",
     "text": [
      "Creando perro Firulais, Pastor alemán\n",
      "<class '__main__.Perro'>\n"
     ]
    }
   ],
   "source": [
    "# Ahora que hemos definido el método init con dos parámetros de entrada, \n",
    "# podemos crear el objeto pasando el valor de los atributos.\n",
    "\n",
    "mi_perro = Perro(\"Firulais\", \"Pastor alemán\")\n",
    "print(type(mi_perro))"
   ]
  },
  {
   "cell_type": "code",
   "execution_count": 10,
   "metadata": {},
   "outputs": [
    {
     "data": {
      "text/plain": [
       "'Firulais'"
      ]
     },
     "execution_count": 10,
     "metadata": {},
     "output_type": "execute_result"
    }
   ],
   "source": [
    "# Por último, podemos acceder a los atributos usando el objeto. Por lo tanto.\n",
    "mi_perro.nombre"
   ]
  },
  {
   "cell_type": "code",
   "execution_count": 9,
   "metadata": {},
   "outputs": [
    {
     "data": {
      "text/plain": [
       "'Pastor alemán'"
      ]
     },
     "execution_count": 9,
     "metadata": {},
     "output_type": "execute_result"
    }
   ],
   "source": [
    "mi_perro.raza"
   ]
  },
  {
   "cell_type": "markdown",
   "metadata": {},
   "source": [
    "Hasta ahora hemos definido atributos de instancia, ya que son atributos que pertenecen a cada perro concreto. Ahora vamos a definir un atributo de clase, que será común para todos los perros. Por ejemplo, la especie de los perros es algo común para todos los objetos Perro."
   ]
  },
  {
   "cell_type": "code",
   "execution_count": 11,
   "metadata": {},
   "outputs": [],
   "source": [
    "class Perro:\n",
    "    # Atributo de clase\n",
    "    especie = 'mamífero'\n",
    "\n",
    "    # El método __init__ es llamado al crear el objeto\n",
    "    def __init__(self, nombre, raza):\n",
    "        print(f\"Creando perro {nombre}, {raza}\")\n",
    "\n",
    "        # Atributos de instancia\n",
    "        self.nombre = nombre\n",
    "        self.raza = raza"
   ]
  },
  {
   "cell_type": "markdown",
   "metadata": {},
   "source": [
    "Dado que es un atributo de clase, no es necesario crear un objeto para acceder al atributos. Podemos hacer lo siguiente."
   ]
  },
  {
   "cell_type": "code",
   "execution_count": 12,
   "metadata": {},
   "outputs": [
    {
     "name": "stdout",
     "output_type": "stream",
     "text": [
      "mamífero\n"
     ]
    }
   ],
   "source": [
    "print(Perro.especie)"
   ]
  },
  {
   "cell_type": "code",
   "execution_count": 13,
   "metadata": {},
   "outputs": [
    {
     "name": "stdout",
     "output_type": "stream",
     "text": [
      "Creando perro Toby, Bulldog\n"
     ]
    },
    {
     "data": {
      "text/plain": [
       "'mamífero'"
      ]
     },
     "execution_count": 13,
     "metadata": {},
     "output_type": "execute_result"
    }
   ],
   "source": [
    "# Se puede acceder también al atributo de clase desde el objeto.\n",
    "mi_perro = Perro(\"Toby\", \"Bulldog\")\n",
    "mi_perro.especie"
   ]
  },
  {
   "cell_type": "markdown",
   "metadata": {},
   "source": [
    "De esta manera, todos los objetos que se creen de la clase perro compartirán ese atributo de clase, ya que pertenecen a la misma."
   ]
  },
  {
   "cell_type": "markdown",
   "metadata": {},
   "source": [
    "## Definir métodos para nuestras clases\n",
    "En realidad cuando usamos __init__ anteriormente ya estábamos definiendo un método, solo que uno especial. A continuación vamos a ver como definir métodos que le den alguna funcionalidad interesante a nuestra clase, siguiendo con el ejemplo de perro.\n",
    "\n",
    "Vamos a codificar dos métodos, ladrar y caminar. El primero no recibirá ningún parámetro y el segundo recibirá el número de pasos que queremos andar. Como hemos indicado anteriormente self hace referencia a la instancia de la clase. Se puede definir un método con def y el nombre, y entre () los parámetros de entrada que recibe, donde siempre tendrá que estar self el primero."
   ]
  },
  {
   "cell_type": "code",
   "execution_count": 14,
   "metadata": {},
   "outputs": [],
   "source": [
    "class Perro:\n",
    "    # Atributo de clase\n",
    "    especie = 'mamífero'\n",
    "\n",
    "    # El método __init__ es llamado al crear el objeto\n",
    "    def __init__(self, nombre, raza):\n",
    "        print(f\"Creando perro {nombre}, {raza}\")\n",
    "\n",
    "        # Atributos de instancia\n",
    "        self.nombre = nombre\n",
    "        self.raza = raza\n",
    "\n",
    "    def ladra(self):\n",
    "        print(\"Guau\")\n",
    "\n",
    "    def camina(self, pasos):\n",
    "        print(f\"Caminando {pasos} pasos\")"
   ]
  },
  {
   "cell_type": "markdown",
   "metadata": {},
   "source": [
    "Por lo tanto si creamos un objeto mi_perro, podremos hacer uso de sus métodos llamándolos con . y el nombre del método. Como si de una función se tratase, pueden recibir y devolver argumentos."
   ]
  },
  {
   "cell_type": "code",
   "execution_count": 15,
   "metadata": {},
   "outputs": [
    {
     "name": "stdout",
     "output_type": "stream",
     "text": [
      "Creando perro Arsen, Pastor alemán\n",
      "Guau\n",
      "Caminando 10 pasos\n"
     ]
    }
   ],
   "source": [
    "mi_perro = Perro(\"Arsen\", \"Pastor alemán\")\n",
    "mi_perro.ladra()\n",
    "mi_perro.camina(10)"
   ]
  },
  {
   "cell_type": "code",
   "execution_count": null,
   "metadata": {},
   "outputs": [],
   "source": []
  }
 ],
 "metadata": {
  "kernelspec": {
   "display_name": "Python [conda env:pyvizenv]",
   "language": "python",
   "name": "conda-env-pyvizenv-py"
  },
  "language_info": {
   "codemirror_mode": {
    "name": "ipython",
    "version": 3
   },
   "file_extension": ".py",
   "mimetype": "text/x-python",
   "name": "python",
   "nbconvert_exporter": "python",
   "pygments_lexer": "ipython3",
   "version": "3.7.9"
  }
 },
 "nbformat": 4,
 "nbformat_minor": 4
}
